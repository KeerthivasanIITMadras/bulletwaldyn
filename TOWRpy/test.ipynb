{
 "cells": [
  {
   "cell_type": "code",
   "execution_count": 5,
   "metadata": {},
   "outputs": [
    {
     "name": "stdout",
     "output_type": "stream",
     "text": [
      "DHRobot: , 4 joints (RRRR), dynamics, standard DH parameters\n",
      "┌──────────┬────┬────────┬───────┐\n",
      "│   θⱼ     │ dⱼ │   aⱼ   │  ⍺ⱼ   │\n",
      "├──────────┼────┼────────┼───────┤\n",
      "│ q1       │  0 │      0 │  0.0° │\n",
      "│ q2 + 90° │  0 │      0 │ 90.0° │\n",
      "│ q3       │  0 │   0.25 │  0.0° │\n",
      "│ q4       │  0 │ 0.3212 │  0.0° │\n",
      "└──────────┴────┴────────┴───────┘\n",
      "\n",
      "┌─┬──┐\n",
      "└─┴──┘\n",
      "\n",
      "  -0.001593  0        -1        -0.0009098  \n",
      "  -1         0         0.001593 -0.5712    \n",
      "   0         1         0         0         \n",
      "   0         0         0         1         \n",
      "\n",
      "[[-5.71250000e-01  3.49789742e-17  2.03082128e-33  0.00000000e+00\n",
      "  -1.50403894e-49  1.00000000e+00]\n",
      " [-5.71250000e-01  3.49789742e-17  2.03082128e-33  0.00000000e+00\n",
      "  -1.50403894e-49  1.00000000e+00]\n",
      " [-3.49789742e-17  2.14184444e-33  5.71250000e-01  1.00000000e+00\n",
      "  -6.12323400e-17  6.12323400e-17]\n",
      " [-1.96708892e-17  1.20449458e-33  3.21250000e-01  1.00000000e+00\n",
      "  -6.12323400e-17  6.12323400e-17]]\n"
     ]
    }
   ],
   "source": [
    "import roboticstoolbox as rtb\n",
    "from roboticstoolbox import DHRobot, RevoluteDH\n",
    "import math\n",
    "import numpy as np\n",
    "\n",
    "\n",
    "class Kinematics:\n",
    "    def __init__(self):\n",
    "        self.L1 = 0\n",
    "        self.L2 = 0.25\n",
    "        self.L3 = 0.32125\n",
    "\n",
    "        self.robot = DHRobot([RevoluteDH(a=self.L1), RevoluteDH(offset=math.pi/2, alpha=math.pi /\n",
    "                                                                2), RevoluteDH(a=self.L2), RevoluteDH(a=self.L3)])\n",
    "\n",
    "    def check(self):\n",
    "        print(self.robot)\n",
    "\n",
    "\n",
    "kin = Kinematics()\n",
    "kin.check()\n",
    "# 2nd joint should always be 0\n",
    "print(kin.robot.fkine([3.14, 0, 0, 0]))\n",
    "# kin.robot.teach([0, 0, 0, 0])\n",
    "print(kin.robot.jacob0([0, 0, 0, 0]).size)"
   ]
  }
 ],
 "metadata": {
  "kernelspec": {
   "display_name": "Python 3",
   "language": "python",
   "name": "python3"
  },
  "language_info": {
   "codemirror_mode": {
    "name": "ipython",
    "version": 3
   },
   "file_extension": ".py",
   "mimetype": "text/x-python",
   "name": "python",
   "nbconvert_exporter": "python",
   "pygments_lexer": "ipython3",
   "version": "3.8.10"
  }
 },
 "nbformat": 4,
 "nbformat_minor": 2
}
